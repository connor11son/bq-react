{
 "cells": [
  {
   "cell_type": "markdown",
   "id": "dd2ce547",
   "metadata": {},
   "source": [
    "# Tutorial for uploading files to Bisque using the API\n",
    "Vision Research Laboratory, July 2022\n",
    "___\n",
    "\n",
    "### Step 0: Installation\n",
    "\n",
    "\n",
    "*   Install `bqapi` using `pip install bqapi-ucsb`\n",
    "*   Install `matplotlib` using `pip install matplotlib`\n",
    "\n"
   ]
  },
  {
   "cell_type": "markdown",
   "id": "5fdc8e0b",
   "metadata": {},
   "source": [
    "### Step 1: Import necessary packages"
   ]
  },
  {
   "cell_type": "code",
   "execution_count": 1,
   "id": "8cb3f37a",
   "metadata": {},
   "outputs": [
    {
     "name": "stderr",
     "output_type": "stream",
     "text": [
      "WARNING:root:pytables services not available\n"
     ]
    }
   ],
   "source": [
    "from bqapi.comm import BQSession"
   ]
  },
  {
   "cell_type": "markdown",
   "id": "09141c03",
   "metadata": {},
   "source": [
    "### Step 2: Authenticate the user and initiate a session"
   ]
  },
  {
   "cell_type": "code",
   "execution_count": 4,
   "id": "cf9960bb",
   "metadata": {},
   "outputs": [],
   "source": [
    "bq = BQSession().init_local(\"Username\", \"Password\", \n",
    "                            bisque_root = \"https://bisque2.ece.ucsb.edu\")"
   ]
  },
  {
   "cell_type": "markdown",
   "id": "35c757e6",
   "metadata": {},
   "source": [
    "### Step 3: Upload the file"
   ]
  },
  {
   "cell_type": "code",
   "execution_count": 5,
   "id": "655c3b92",
   "metadata": {},
   "outputs": [],
   "source": [
    "file_path = \"sample_image.jpeg\"\n",
    "response = bq.postblob(file_path)"
   ]
  },
  {
   "cell_type": "markdown",
   "id": "64200efe",
   "metadata": {},
   "source": [
    "### Step 4: View the uploaded file"
   ]
  },
  {
   "cell_type": "code",
   "execution_count": 6,
   "id": "0a26761f",
   "metadata": {},
   "outputs": [
    {
     "name": "stdout",
     "output_type": "stream",
     "text": [
      "Access uploaded file at https://bisque2.ece.ucsb.edu/client_service/view?resource=https://bisque2.ece.ucsb.edu/data_service/00-UWz9fDNvFHaGdumRoRymDo\n",
      "\n",
      "MEX ID of Uploaded file: 00-UWz9fDNvFHaGdumRoRymDo\n"
     ]
    }
   ],
   "source": [
    "response = response.decode('UTF-8')\n",
    "start = response.find(\"resource_uniq=\")\n",
    "uri = response[start + 15 : start + 40]\n",
    "\n",
    "url_uploaded = 'https://bisque2.ece.ucsb.edu/client_service/view?resource=https://bisque2.ece.ucsb.edu/data_service/'+uri\n",
    "\n",
    "print(\"Access uploaded file at\", url_uploaded)\n",
    "\n",
    "print(\"\\nMEX ID of Uploaded file:\",url_uploaded.split('/')[-1])"
   ]
  },
  {
   "cell_type": "code",
   "execution_count": null,
   "id": "926897ac",
   "metadata": {},
   "outputs": [],
   "source": []
  }
 ],
 "metadata": {
  "kernelspec": {
   "display_name": "Python 3 (ipykernel)",
   "language": "python",
   "name": "python3"
  },
  "language_info": {
   "codemirror_mode": {
    "name": "ipython",
    "version": 3
   },
   "file_extension": ".py",
   "mimetype": "text/x-python",
   "name": "python",
   "nbconvert_exporter": "python",
   "pygments_lexer": "ipython3",
   "version": "3.8.10"
  }
 },
 "nbformat": 4,
 "nbformat_minor": 5
}
